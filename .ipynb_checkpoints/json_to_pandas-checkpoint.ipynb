{
 "cells": [
  {
   "cell_type": "code",
   "execution_count": 2,
   "metadata": {},
   "outputs": [
    {
     "name": "stdout",
     "output_type": "stream",
     "text": [
      "    id                                               text      title  \\\n",
      "0   12  Anarchism\\n\\nAnarchism is an anti-authoritaria...  Anarchism   \n",
      "1   25  Autism\\n\\nAutism is a developmental disorder c...     Autism   \n",
      "2   39  Albedo\\n\\nAlbedo () (, meaning 'whiteness') is...     Albedo   \n",
      "3  290  A\\n\\nA (named , plural \"As\", \"A's\", \"a\"s, \"a's...          A   \n",
      "4  303  Alabama\\n\\nAlabama () is a state in the southe...    Alabama   \n",
      "\n",
      "                                       url  \n",
      "0   https://en.wikipedia.org/wiki?curid=12  \n",
      "1   https://en.wikipedia.org/wiki?curid=25  \n",
      "2   https://en.wikipedia.org/wiki?curid=39  \n",
      "3  https://en.wikipedia.org/wiki?curid=290  \n",
      "4  https://en.wikipedia.org/wiki?curid=303  \n"
     ]
    }
   ],
   "source": [
    "'''\n",
    "This python script will create a pandas dataframe in the following format:\n",
    "id | text (english) | title | url (en-wiki) | topic\n",
    "parsing from the english wikipedia set, only the topics / id / revid / article name / url / english text \n",
    "will parse. \n",
    "\n",
    "JSON format: {\"id\": \"\", \"url\":\"\", \"title\": \"\", \"text\": \"...\"}\n",
    "JSON format extracted using: https://github.com/attardi/wikiextractor\n",
    "\n",
    "https://www.mediawiki.org/wiki/API:Categories for topic\n",
    "'''\n",
    "\n",
    "import json\n",
    "import pandas as pd\n",
    "import requests\n",
    "\n",
    "# Currently goes through 1 json instance at a time to make 1 csv for the articles in that json file.\n",
    "pandas_df = pd.read_json(\"wiki_00.json\",lines=\"True\")\n",
    "print(pandas_df.head())\n",
    "\n"
   ]
  },
  {
   "cell_type": "code",
   "execution_count": 18,
   "metadata": {},
   "outputs": [
    {
     "name": "stdout",
     "output_type": "stream",
     "text": [
      "    id                                               text      title  \\\n",
      "0   12  Anarchism\\n\\nAnarchism is an anti-authoritaria...  Anarchism   \n",
      "1   25  Autism\\n\\nAutism is a developmental disorder c...     Autism   \n",
      "2   39  Albedo\\n\\nAlbedo () (, meaning 'whiteness') is...     Albedo   \n",
      "3  290  A\\n\\nA (named , plural \"As\", \"A's\", \"a\"s, \"a's...          A   \n",
      "4  303  Alabama\\n\\nAlabama () is a state in the southe...    Alabama   \n",
      "\n",
      "                                       url  \\\n",
      "0   https://en.wikipedia.org/wiki?curid=12   \n",
      "1   https://en.wikipedia.org/wiki?curid=25   \n",
      "2   https://en.wikipedia.org/wiki?curid=39   \n",
      "3  https://en.wikipedia.org/wiki?curid=290   \n",
      "4  https://en.wikipedia.org/wiki?curid=303   \n",
      "\n",
      "                                               topic  \n",
      "0  [All articles lacking reliable references, All...  \n",
      "1  [All Wikipedia articles written in American En...  \n",
      "2  [All articles with unsourced statements, Artic...  \n",
      "3  [All articles with unsourced statements, Artic...  \n",
      "4  [1819 establishments in the United States, AC ...  \n"
     ]
    }
   ],
   "source": [
    "''' \n",
    "INDEXING:\n",
    "id=0,text=1, title=2, url=3, topic (will be)=4\n",
    "---\n",
    "\n",
    "Next, can get its topic by: https://www.mediawiki.org/wiki/API:Categories for topic\n",
    "\n",
    "\n",
    "'''\n",
    "# default value is NONE for topic\n",
    "pandas_df['topic']='NONE' \n",
    "pandas_df = pandas_df.astype('object')\n",
    "sess = requests.Session()\n",
    "URL = \"https://en.wikipedia.org/w/api.php\"\n",
    "# Go through the URLs in the dataset: \n",
    "\n",
    "for index, row in pandas_df.iterrows():\n",
    "    title = row['title']\n",
    "    params = {\n",
    "    \"action\": \"query\",\n",
    "    \"format\": \"json\",\n",
    "    \"titles\": title,\n",
    "    \"prop\": \"categories\",\n",
    "    }\n",
    "\n",
    "\n",
    "    R = sess.get(url=URL, params=params)\n",
    "    cat_dat = R.json()\n",
    "#     print(index, cat_dat)\n",
    "    if 'continue' in cat_dat.keys():\n",
    "        number = cat_dat['continue']['clcontinue'].split(\"|\")[0]\n",
    "        # All categories associated are within this list. \n",
    "        # Just grab first one that appears. \n",
    "        # Format of categories: \"categories\": [{ns:xx, title:xx}, {..}, {...}]\n",
    "        # Format: \"title\": \"Category:1985 births\" --> split = [\"category\", \"1985 births\"]\n",
    "        # Could get all topics from just list_cat. \n",
    "        # add all categories in a list\n",
    "        list_cat = cat_dat['query']['pages'][number]['categories']\n",
    "        topic_cat = [cat['title'].split(':')[1] for cat in list_cat]\n",
    "\n",
    "        # just keep the first category\n",
    "        #         topic_cat = list_cat['title'].split(\":\")[1]\n",
    "        #         print(topic_cat)\n",
    "\n",
    "        # Change 'topic' to be the topic_cat\n",
    "        row['topic'] = topic_cat\n",
    "        pandas_df.loc[index, 'topic']= topic_cat\n",
    "\n",
    "print(pandas_df.head())\n",
    "\n"
   ]
  },
  {
   "cell_type": "code",
   "execution_count": 16,
   "metadata": {},
   "outputs": [],
   "source": [
    "# Finally, place into csv for use in other people's code! (If you are using this dataset in other analysis)\n",
    "\n",
    "pandas_df.to_csv(path_or_buf='wikipandas.csv', index=False)\n",
    "\n",
    "\n",
    "# To see how the output can be used again, un-comment these two lines:\n",
    "#new_pandas = pd.read_csv('wikipandas.csv')\n",
    "#print(new_pandas.head())"
   ]
  },
  {
   "cell_type": "code",
   "execution_count": null,
   "metadata": {},
   "outputs": [],
   "source": []
  }
 ],
 "metadata": {
  "kernelspec": {
   "display_name": "Python 3",
   "language": "python",
   "name": "python3"
  },
  "language_info": {
   "codemirror_mode": {
    "name": "ipython",
    "version": 3
   },
   "file_extension": ".py",
   "mimetype": "text/x-python",
   "name": "python",
   "nbconvert_exporter": "python",
   "pygments_lexer": "ipython3",
   "version": "3.7.2"
  }
 },
 "nbformat": 4,
 "nbformat_minor": 2
}
